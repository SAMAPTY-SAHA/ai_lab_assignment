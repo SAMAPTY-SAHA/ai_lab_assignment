{
  "nbformat": 4,
  "nbformat_minor": 0,
  "metadata": {
    "colab": {
      "name": "task-5-text_suggesting_system_using_bayes_theorem.ipynb",
      "provenance": [],
      "collapsed_sections": []
    },
    "kernelspec": {
      "name": "python3",
      "display_name": "Python 3"
    }
  },
  "cells": [
    {
      "cell_type": "code",
      "metadata": {
        "id": "VjgKpgJU4vOk"
      },
      "source": [
        "import nltk\r\n",
        "from nltk import bigrams, trigrams\r\n",
        "from collections import Counter, defaultdict\r\n",
        "import os"
      ],
      "execution_count": null,
      "outputs": []
    },
    {
      "cell_type": "code",
      "metadata": {
        "colab": {
          "base_uri": "https://localhost:8080/"
        },
        "id": "S1g0fYM-43sG",
        "outputId": "0a8f4df1-30ad-4b5c-e47f-86da92b3da98"
      },
      "source": [
        "nltk.download('reuters')\r\n",
        "nltk.download('punkt')"
      ],
      "execution_count": null,
      "outputs": [
        {
          "output_type": "stream",
          "text": [
            "[nltk_data] Downloading package reuters to /root/nltk_data...\n",
            "[nltk_data] Downloading package punkt to /root/nltk_data...\n",
            "[nltk_data]   Unzipping tokenizers/punkt.zip.\n"
          ],
          "name": "stdout"
        },
        {
          "output_type": "execute_result",
          "data": {
            "text/plain": [
              "True"
            ]
          },
          "metadata": {
            "tags": []
          },
          "execution_count": 2
        }
      ]
    },
    {
      "cell_type": "code",
      "metadata": {
        "id": "YJxb8vWW-ZeG"
      },
      "source": [
        "from nltk.corpus import reuters"
      ],
      "execution_count": null,
      "outputs": []
    },
    {
      "cell_type": "code",
      "metadata": {
        "id": "8rOMKfarBGSz"
      },
      "source": [
        "from nltk.corpus import reuters\r\n",
        "def tryToLower(u):\r\n",
        "  if type(u)==str:\r\n",
        "    return u.lower()\r\n",
        "  return u"
      ],
      "execution_count": null,
      "outputs": []
    },
    {
      "cell_type": "code",
      "metadata": {
        "id": "w6eA6LVHBU5W"
      },
      "source": [
        "# Create a placeholder for model\r\n",
        "model = defaultdict(lambda: defaultdict(lambda: 0))\r\n",
        "\r\n",
        "# Count frequency of co-occurance  \r\n",
        "for sentence in reuters.sents():\r\n",
        "  # print(sentence)\r\n",
        "  for w1, w2, w3 in trigrams(sentence, pad_right=True, pad_left=True):\r\n",
        "    model[(w1, w2)][w3] += 1"
      ],
      "execution_count": null,
      "outputs": []
    },
    {
      "cell_type": "code",
      "metadata": {
        "id": "YDul3-pFBpsl"
      },
      "source": [
        "def calculateProbablities(model):\r\n",
        "  for wordNext in model:\r\n",
        "    total_word = float(sum(model[wordNext].values()))\r\n",
        "    for wordPrev in model[wordNext]:\r\n",
        "        model[wordNext][wordPrev] /= total_word"
      ],
      "execution_count": null,
      "outputs": []
    },
    {
      "cell_type": "code",
      "metadata": {
        "id": "GWVrkys_DWK8"
      },
      "source": [
        "predictions =  dict(model[\"this\", \"is\"])"
      ],
      "execution_count": null,
      "outputs": []
    },
    {
      "cell_type": "code",
      "metadata": {
        "colab": {
          "base_uri": "https://localhost:8080/"
        },
        "id": "qiKJtnDKDlI9",
        "outputId": "1754942f-d0e7-49b8-8588-1723033197f0"
      },
      "source": [
        "type(predictions)"
      ],
      "execution_count": null,
      "outputs": [
        {
          "output_type": "execute_result",
          "data": {
            "text/plain": [
              "dict"
            ]
          },
          "metadata": {
            "tags": []
          },
          "execution_count": 15
        }
      ]
    },
    {
      "cell_type": "code",
      "metadata": {
        "id": "yiC3c37TDorL"
      },
      "source": [
        "most_predicted_words = dict(sorted(predictions.items(), key=lambda \r\n",
        "item: item[1],reverse=True))"
      ],
      "execution_count": null,
      "outputs": []
    },
    {
      "cell_type": "code",
      "metadata": {
        "colab": {
          "base_uri": "https://localhost:8080/"
        },
        "id": "2O3aCHP4EHjt",
        "outputId": "6caf6ea1-678d-470a-be28-d381bf7c4e05"
      },
      "source": [
        "top5 = []\r\n",
        "for x in most_predicted_words .keys():\r\n",
        "  top5.append(x)\r\n",
        "\r\n",
        "for i in range(5):\r\n",
        "  print(best5[i],most_predicted_words [top5[i]])"
      ],
      "execution_count": null,
      "outputs": [
        {
          "output_type": "stream",
          "text": [
            "a 0.24528301886792453\n",
            "the 0.24528301886792453\n",
            "not 0.07547169811320754\n",
            "hardly 0.03773584905660377\n",
            "done 0.03773584905660377\n"
          ],
          "name": "stdout"
        }
      ]
    },
    {
      "cell_type": "code",
      "metadata": {
        "colab": {
          "base_uri": "https://localhost:8080/"
        },
        "id": "wXXg6_siEqRx",
        "outputId": "52fb7145-c48c-4d77-c3eb-931023d19d43"
      },
      "source": [
        "most_predicted_words"
      ],
      "execution_count": null,
      "outputs": [
        {
          "output_type": "execute_result",
          "data": {
            "text/plain": [
              "{'700': 0.018867924528301886,\n",
              " 'a': 0.24528301886792453,\n",
              " 'about': 0.018867924528301886,\n",
              " 'also': 0.018867924528301886,\n",
              " 'an': 0.03773584905660377,\n",
              " 'approved': 0.018867924528301886,\n",
              " 'available': 0.018867924528301886,\n",
              " 'believed': 0.018867924528301886,\n",
              " 'definitely': 0.018867924528301886,\n",
              " 'done': 0.03773584905660377,\n",
              " 'expected': 0.018867924528301886,\n",
              " 'hardly': 0.03773584905660377,\n",
              " 'most': 0.018867924528301886,\n",
              " 'not': 0.07547169811320754,\n",
              " 'now': 0.018867924528301886,\n",
              " 'partly': 0.018867924528301886,\n",
              " 'possible': 0.018867924528301886,\n",
              " 'probably': 0.018867924528301886,\n",
              " 'still': 0.018867924528301886,\n",
              " 'the': 0.24528301886792453,\n",
              " 'underpinning': 0.018867924528301886,\n",
              " 'unlikely': 0.018867924528301886,\n",
              " 'within': 0.018867924528301886}"
            ]
          },
          "metadata": {
            "tags": []
          },
          "execution_count": 22
        }
      ]
    }
  ]
}